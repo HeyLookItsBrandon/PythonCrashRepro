{
 "cells": [
  {
   "cell_type": "markdown",
   "metadata": {},
   "source": [
    "This notebook is a self-contained way to reproduce a crash I experience using Python's `multiprocessing` module on macOS Catalina, but only **after** calling MatPlotLib. See matplotlib [issue 15410](https://github.com/matplotlib/matplotlib/issues/15410) for details.\n",
    "\n",
    "My computer has the following installed:\n",
    "- macOS 10.15.3\n",
    "- Python 3.7.4\n",
    "- matplotlib 3.1.3\n",
    "- jupyter-client 5.3.4\n",
    "- jupyter-core 4.6.2\n",
    "- jupyterlab 1.2.6\n",
    "- jupyterlab-server 1.0.6\n",
    "\n",
    "I'm able to reproduce the issue consistently using these steps:\n",
    "1. Running the first cell succeeds. Nothing is written to the console used to launch JupyterLab.\n",
    "2. Running the second cell succeeds. It prints the following warning to the console once for each value `map()` is applied to:\n",
    "> [IPKernelApp] WARNING | WARNING: attempted to send message from fork\n",
    "{'header': {'msg_id': '19e10b0a-aa6d62db72c689c3c608acb5', 'msg_type': 'display_data', 'username': 'whoever', 'session': '3ba438dd-8d72f4b8166f12c9d1c1cbde', 'date': datetime.datetime(2020, 2, 17, 8, 23, 59, 528060, tzinfo=datetime.timezone.utc), 'version': '5.3'}, 'msg_id': '19e10b0a-aa6d62db72c689c3c608acb5', 'msg_type': 'display_data', 'parent_header': {'date': datetime.datetime(2020, 2, 17, 8, 23, 59, 467000, tzinfo=tzutc()), 'msg_id': '2cd6a546-d38c-47a8-b6f8-1d8eb04edc64', 'msg_type': 'execute_request', 'session': '39ad0db7-54aa-4ee0-9c36-3c00c071c43c', 'username': '', 'version': '5.2'}, 'content': {'data': {'text/plain': '0'}, 'metadata': {}, 'transient': {}}, 'metadata': {}}\n",
    "3. Running the second cell again succeeds but the following error starts printing continuously in the console:\n",
    "> libc++abi.dylib: terminating with uncaught exception of type std::runtime_error: Couldn't close file\n",
    "4. Running the second cell a third time causes the same error to print faster and the **cell execution never completes**.\n",
    "\n",
    "**However,** if I don't run the first cell, I'm able to run the second cell releatedly. It prints the same \"attempted to send message from fork\" warnings mentioned above but it never prints the \"couldn't close file\" error or crashes."
   ]
  },
  {
   "cell_type": "code",
   "execution_count": 1,
   "metadata": {},
   "outputs": [
    {
     "data": {
      "text/plain": [
       "<matplotlib.image.AxesImage at 0x7fb9a848f990>"
      ]
     },
     "execution_count": 1,
     "metadata": {},
     "output_type": "execute_result"
    },
    {
     "data": {
      "image/png": "[encoded data removed]",
      "text/plain": [
       "<Figure size 432x288 with 1 Axes>"
      ]
     },
     "metadata": {
      "needs_background": "light"
     },
     "output_type": "display_data"
    }
   ],
   "source": [
    "import matplotlib.pyplot as plt\n",
    "\n",
    "plt.imshow([[0.0, 0.1, 0.2], [0.3, 0.4, 0.5], [0.6, 0.7, 0.8]], cmap=plt.cm.gray, vmin=0, vmax = 1)"
   ]
  },
  {
   "cell_type": "code",
   "execution_count": 2,
   "metadata": {},
   "outputs": [
    {
     "name": "stdout",
     "output_type": "stream",
     "text": [
      "[0, 1, 4, 9, 16]\n"
     ]
    }
   ],
   "source": [
    "import multiprocessing\n",
    "\n",
    "def square_value(value):\n",
    "    return value ** 2\n",
    "\n",
    "try:\n",
    "    cpu_count = multiprocessing.cpu_count()\n",
    "except NotImplementedError:\n",
    "    cpu_count = 2\n",
    "pool = multiprocessing.Pool(cpu_count)\n",
    "squared_values = pool.map(square_value, range(5))\n",
    "print(squared_values)\n",
    "#pool.close() # This doesn't seem necessary from doc examples. Using it had no effect."
   ]
  }
 ],
 "metadata": {
  "kernelspec": {
   "display_name": "Python 3",
   "language": "python",
   "name": "python3"
  },
  "language_info": {
   "codemirror_mode": {
    "name": "ipython",
    "version": 3
   },
   "file_extension": ".py",
   "mimetype": "text/x-python",
   "name": "python",
   "nbconvert_exporter": "python",
   "pygments_lexer": "ipython3",
   "version": "3.7.4"
  }
 },
 "nbformat": 4,
 "nbformat_minor": 4
}
